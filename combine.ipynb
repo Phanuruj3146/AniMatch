{
 "cells": [
  {
   "cell_type": "code",
   "execution_count": 1,
   "metadata": {},
   "outputs": [
    {
     "name": "stderr",
     "output_type": "stream",
     "text": [
      "C:\\Users\\chiss\\AppData\\Local\\Temp\\ipykernel_24572\\1241921587.py:2: DeprecationWarning: \n",
      "Pyarrow will become a required dependency of pandas in the next major release of pandas (pandas 3.0),\n",
      "(to allow more performant data types, such as the Arrow string type, and better interoperability with other libraries)\n",
      "but was not found to be installed on your system.\n",
      "If this would cause problems for you,\n",
      "please provide us feedback at https://github.com/pandas-dev/pandas/issues/54466\n",
      "        \n",
      "  import pandas as pd\n"
     ]
    }
   ],
   "source": [
    "import numpy as np\n",
    "import pandas as pd\n",
    "\n",
    "anime = pd.read_csv('anime_clean.csv')\n",
    "rec = pd.read_csv('anime_anime.csv')"
   ]
  },
  {
   "cell_type": "code",
   "execution_count": 3,
   "metadata": {},
   "outputs": [
    {
     "name": "stderr",
     "output_type": "stream",
     "text": [
      "C:\\Users\\chiss\\AppData\\Local\\Temp\\ipykernel_24572\\688337271.py:14: FutureWarning: Series.__getitem__ treating keys as positions is deprecated. In a future version, integer keys will always be treated as labels (consistent with DataFrame behavior). To access a value by position, use `ser.iloc[pos]`\n",
      "  anime_id.append(row[0])\n",
      "C:\\Users\\chiss\\AppData\\Local\\Temp\\ipykernel_24572\\688337271.py:15: FutureWarning: Series.__getitem__ treating keys as positions is deprecated. In a future version, integer keys will always be treated as labels (consistent with DataFrame behavior). To access a value by position, use `ser.iloc[pos]`\n",
      "  anime_type.append(row[5])\n",
      "C:\\Users\\chiss\\AppData\\Local\\Temp\\ipykernel_24572\\688337271.py:16: FutureWarning: Series.__getitem__ treating keys as positions is deprecated. In a future version, integer keys will always be treated as labels (consistent with DataFrame behavior). To access a value by position, use `ser.iloc[pos]`\n",
      "  source_type.append(row[6])\n",
      "C:\\Users\\chiss\\AppData\\Local\\Temp\\ipykernel_24572\\688337271.py:17: FutureWarning: Series.__getitem__ treating keys as positions is deprecated. In a future version, integer keys will always be treated as labels (consistent with DataFrame behavior). To access a value by position, use `ser.iloc[pos]`\n",
      "  studios.append(row[12])\n",
      "C:\\Users\\chiss\\AppData\\Local\\Temp\\ipykernel_24572\\688337271.py:18: FutureWarning: Series.__getitem__ treating keys as positions is deprecated. In a future version, integer keys will always be treated as labels (consistent with DataFrame behavior). To access a value by position, use `ser.iloc[pos]`\n",
      "  genres.append(row[13])\n",
      "C:\\Users\\chiss\\AppData\\Local\\Temp\\ipykernel_24572\\688337271.py:19: FutureWarning: Series.__getitem__ treating keys as positions is deprecated. In a future version, integer keys will always be treated as labels (consistent with DataFrame behavior). To access a value by position, use `ser.iloc[pos]`\n",
      "  scores.append(row[14])\n",
      "C:\\Users\\chiss\\AppData\\Local\\Temp\\ipykernel_24572\\688337271.py:22: FutureWarning: Series.__getitem__ treating keys as positions is deprecated. In a future version, integer keys will always be treated as labels (consistent with DataFrame behavior). To access a value by position, use `ser.iloc[pos]`\n",
      "  animeBs.append(row[0])\n",
      "C:\\Users\\chiss\\AppData\\Local\\Temp\\ipykernel_24572\\688337271.py:23: FutureWarning: Series.__getitem__ treating keys as positions is deprecated. In a future version, integer keys will always be treated as labels (consistent with DataFrame behavior). To access a value by position, use `ser.iloc[pos]`\n",
      "  animeBs.append(row[1])\n",
      "C:\\Users\\chiss\\AppData\\Local\\Temp\\ipykernel_24572\\688337271.py:24: FutureWarning: Series.__getitem__ treating keys as positions is deprecated. In a future version, integer keys will always be treated as labels (consistent with DataFrame behavior). To access a value by position, use `ser.iloc[pos]`\n",
      "  recommends.append(row[3])\n"
     ]
    },
    {
     "name": "stdout",
     "output_type": "stream",
     "text": [
      "13379\n",
      "13379\n"
     ]
    }
   ],
   "source": [
    "cols = ['anime_id','type','source_type','studios','genres','score']\n",
    "\n",
    "data = {}\n",
    "anime_id = []\n",
    "anime_type = []\n",
    "source_type = []\n",
    "studios = []\n",
    "genres = []\n",
    "scores = []\n",
    "animeAs = []\n",
    "animeBs = []\n",
    "recommends = []\n",
    "for index,row in anime.iterrows():\n",
    "    anime_id.append(row[0])\n",
    "    anime_type.append(row[5])\n",
    "    source_type.append(row[6])\n",
    "    studios.append(row[12])\n",
    "    genres.append(row[13])\n",
    "    scores.append(row[14])\n",
    "\n",
    "for index,row in rec.iterrows():\n",
    "    animeBs.append(row[0])\n",
    "    animeBs.append(row[1])\n",
    "    recommends.append(row[3])\n",
    "\n",
    "data['anime_id'] = anime_id\n",
    "data['type'] = anime_type\n",
    "data['source_type'] = source_type\n",
    "data['studios'] = studios\n",
    "for index,genre in enumerate(genres):\n",
    "    if type(genre) == str:\n",
    "        if '|' in genre:\n",
    "            temp = genre.split('|')\n",
    "            genres[index] = temp\n",
    "\n",
    "data['genres'] = genres\n",
    "data['score'] = scores\n",
    "\n",
    "print(len(data['genres']))\n",
    "print(len(data['score']))\n",
    "# data['animeA'] = animeAs\n",
    "# data['animeB'] = animeBs\n",
    "# data['recommends'] = recommends\n",
    "\n",
    "\n",
    "# df = pd.DataFrame(data,columns=['anime_id','type','source_type','studios','genres','score'])\n",
    "# df.head()"
   ]
  },
  {
   "cell_type": "code",
   "execution_count": null,
   "metadata": {},
   "outputs": [],
   "source": []
  }
 ],
 "metadata": {
  "kernelspec": {
   "display_name": "Python 3",
   "language": "python",
   "name": "python3"
  },
  "language_info": {
   "codemirror_mode": {
    "name": "ipython",
    "version": 3
   },
   "file_extension": ".py",
   "mimetype": "text/x-python",
   "name": "python",
   "nbconvert_exporter": "python",
   "pygments_lexer": "ipython3",
   "version": "3.11.4"
  }
 },
 "nbformat": 4,
 "nbformat_minor": 2
}
