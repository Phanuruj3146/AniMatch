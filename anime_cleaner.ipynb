{
 "cells": [
  {
   "cell_type": "code",
   "execution_count": 2,
   "metadata": {},
   "outputs": [
    {
     "name": "stderr",
     "output_type": "stream",
     "text": [
      "C:\\Users\\chiss\\AppData\\Local\\Temp\\ipykernel_23980\\3910271299.py:1: DeprecationWarning: \n",
      "Pyarrow will become a required dependency of pandas in the next major release of pandas (pandas 3.0),\n",
      "(to allow more performant data types, such as the Arrow string type, and better interoperability with other libraries)\n",
      "but was not found to be installed on your system.\n",
      "If this would cause problems for you,\n",
      "please provide us feedback at https://github.com/pandas-dev/pandas/issues/54466\n",
      "        \n",
      "  import pandas as pd\n"
     ]
    }
   ],
   "source": [
    "import pandas as pd\n",
    "import numpy as np\n",
    "from sklearn.preprocessing import LabelEncoder\n",
    "from sklearn.utils import shuffle\n",
    "from sklearn.model_selection import train_test_split\n",
    "from sklearn.ensemble import RandomForestClassifier"
   ]
  },
  {
   "cell_type": "code",
   "execution_count": 3,
   "metadata": {},
   "outputs": [
    {
     "data": {
      "text/plain": [
       "anime_id                     0\n",
       "anime_url                    0\n",
       "title                        0\n",
       "synopsis                   237\n",
       "main_pic                  9200\n",
       "type                      9200\n",
       "source_type               9200\n",
       "num_episodes              9410\n",
       "status                    9200\n",
       "start_date                9304\n",
       "end_date                  9489\n",
       "season                   12804\n",
       "studios                  10757\n",
       "genres                    9201\n",
       "score                    10749\n",
       "score_count              10749\n",
       "score_rank               11104\n",
       "popularity_rank           9201\n",
       "members_count             9201\n",
       "favorites_count           9201\n",
       "watching_count            9201\n",
       "completed_count           9201\n",
       "on_hold_count             9201\n",
       "dropped_count             9201\n",
       "plan_to_watch_count       9201\n",
       "total_count               9201\n",
       "score_10_count            9201\n",
       "score_09_count            9201\n",
       "score_08_count            9201\n",
       "score_07_count            9201\n",
       "score_06_count            9201\n",
       "score_05_count            9201\n",
       "score_04_count            9201\n",
       "score_03_count            9201\n",
       "score_02_count            9201\n",
       "score_01_count            9201\n",
       "clubs                    10219\n",
       "pics                      9201\n",
       "anime_recommendations    13379\n",
       "dtype: int64"
      ]
     },
     "execution_count": 3,
     "metadata": {},
     "output_type": "execute_result"
    }
   ],
   "source": [
    "data = pd.read_csv(\"anime_clean.csv\", encoding=\"utf8\")\n",
    "rec = pd.read_csv('anime_anime.csv')\n",
    "\n",
    "data.isnull().sum()"
   ]
  },
  {
   "cell_type": "markdown",
   "metadata": {},
   "source": [
    "# Clean Data"
   ]
  },
  {
   "cell_type": "code",
   "execution_count": 5,
   "metadata": {},
   "outputs": [
    {
     "data": {
      "text/plain": [
       "title\n",
       "Natsume Yuujinchou Go                          8.55\n",
       "Doupo Cangqiong: San Nian Zhi Yue              8.52\n",
       "Douluo Dalu: Feng Qi Tang Men                  8.44\n",
       "Made in Abyss Movie 2: Hourou Suru Tasogare    8.37\n",
       "Idol Land PriPara                              8.36\n",
       "World Trigger 3rd Season                       8.32\n",
       "Tunshi Xingkong 2nd Season                     8.26\n",
       "Douluo Dalu: Xingdou Xian Ji Pian              8.25\n",
       "Douluo Dalu: Hanhai Qian Kun                   8.25\n",
       "Douluo Dalu: Haishen Zhi Guang                 8.24\n",
       "Name: score, dtype: float64"
      ]
     },
     "execution_count": 5,
     "metadata": {},
     "output_type": "execute_result"
    }
   ],
   "source": [
    "# Drop anime if title is empty\n",
    "data = data.dropna(subset=['title'])\n",
    "data.groupby('title')['score'].mean().sort_values(ascending=False).head(10)"
   ]
  },
  {
   "cell_type": "code",
   "execution_count": 14,
   "metadata": {},
   "outputs": [
    {
     "name": "stdout",
     "output_type": "stream",
     "text": [
      "       anime_id                                          anime_url  \\\n",
      "0          2366  https://myanimelist.net/anime/2366/Touma_Kishi...   \n",
      "1          4940  https://myanimelist.net/anime/4940/Sabaku_no_K...   \n",
      "2         50285  https://myanimelist.net/anime/50285/On_Air_Dek...   \n",
      "3          3975  https://myanimelist.net/anime/3975/Uchi_no_3_S...   \n",
      "4         36036    https://myanimelist.net/anime/36036/Running_Man   \n",
      "...         ...                                                ...   \n",
      "13374     32188  https://myanimelist.net/anime/32188/Steins_Gat...   \n",
      "13375     31324  https://myanimelist.net/anime/31324/Grisaia_no...   \n",
      "13376     31283  https://myanimelist.net/anime/31283/Bikini_War...   \n",
      "13377     33142  https://myanimelist.net/anime/33142/Re_Zero_ka...   \n",
      "13378     31234  https://myanimelist.net/anime/31234/Himouto_Um...   \n",
      "\n",
      "                                                   title  \\\n",
      "0                                    Touma Kishinden Oni   \n",
      "1                       Sabaku no Kaizoku! Captain Kuppa   \n",
      "2                                        On Air Dekinai!   \n",
      "3                                       Uchi no 3 Shimai   \n",
      "4                                            Running Man   \n",
      "...                                                  ...   \n",
      "13374  Steins;Gate: Kyoukaimenjou no Missing Link - D...   \n",
      "13375  Grisaia no Meikyuu: Caprice no Mayu 0 - Takizo...   \n",
      "13376                            Bikini Warriors Special   \n",
      "13377                   Re:Zero kara Hajimeru Break Time   \n",
      "13378                               Himouto! Umaru-chanS   \n",
      "\n",
      "                                                synopsis  \\\n",
      "0      Shuramaru is hated and feared by the villagers...   \n",
      "1                                 Sometime in the future   \n",
      "2                                            Set in 2014   \n",
      "3      The daily life of the Motsumoto family. The th...   \n",
      "4                                          The Soul Tree   \n",
      "...                                                  ...   \n",
      "13374        Having reached his emotional breaking point   \n",
      "13375   Special bundled with the Blu-ray/DVD volume of .   \n",
      "13376      According to the official Hobby Japan website   \n",
      "13377  A series of comedic shorts featuring chibi ver...   \n",
      "13378                                       These shorts   \n",
      "\n",
      "                                                main_pic  type  source_type  \\\n",
      "0                                                    NaN     5           13   \n",
      "1                                                    NaN     5           13   \n",
      "2                                                    NaN     5           13   \n",
      "3                                                    NaN     5           13   \n",
      "4                                                    NaN     5           13   \n",
      "...                                                  ...   ...          ...   \n",
      "13374                                                NaN     5           13   \n",
      "13375  https://cdn.myanimelist.net/images/anime/2/753...     3           11   \n",
      "13376                                                NaN     5           13   \n",
      "13377  https://cdn.myanimelist.net/images/anime/8/812...     3            4   \n",
      "13378                                                NaN     5           13   \n",
      "\n",
      "       num_episodes           status      start_date  ... score_08_count  \\\n",
      "0               NaN              NaN             NaN  ...            NaN   \n",
      "1               NaN              NaN             NaN  ...            NaN   \n",
      "2               NaN              NaN             NaN  ...            NaN   \n",
      "3               NaN              NaN             NaN  ...            NaN   \n",
      "4               NaN              NaN             NaN  ...            NaN   \n",
      "...             ...              ...             ...  ...            ...   \n",
      "13374           NaN              NaN             NaN  ...            NaN   \n",
      "13375           1.0  Finished Airing  7/23/2015 0:00  ...         6332.0   \n",
      "13376           NaN              NaN             NaN  ...            NaN   \n",
      "13377          11.0  Finished Airing   4/8/2016 0:00  ...         4591.0   \n",
      "13378           NaN              NaN             NaN  ...            NaN   \n",
      "\n",
      "      score_07_count  score_06_count  score_05_count  score_04_count  \\\n",
      "0                NaN             NaN             NaN             NaN   \n",
      "1                NaN             NaN             NaN             NaN   \n",
      "2                NaN             NaN             NaN             NaN   \n",
      "3                NaN             NaN             NaN             NaN   \n",
      "4                NaN             NaN             NaN             NaN   \n",
      "...              ...             ...             ...             ...   \n",
      "13374            NaN             NaN             NaN             NaN   \n",
      "13375         8258.0          4135.0          2079.0           735.0   \n",
      "13376            NaN             NaN             NaN             NaN   \n",
      "13377        10606.0          9148.0          4477.0          1185.0   \n",
      "13378            NaN             NaN             NaN             NaN   \n",
      "\n",
      "       score_03_count  score_02_count  score_01_count  \\\n",
      "0                 NaN             NaN             NaN   \n",
      "1                 NaN             NaN             NaN   \n",
      "2                 NaN             NaN             NaN   \n",
      "3                 NaN             NaN             NaN   \n",
      "4                 NaN             NaN             NaN   \n",
      "...               ...             ...             ...   \n",
      "13374             NaN             NaN             NaN   \n",
      "13375           359.0           229.0           250.0   \n",
      "13376             NaN             NaN             NaN   \n",
      "13377           521.0           302.0           253.0   \n",
      "13378             NaN             NaN             NaN   \n",
      "\n",
      "                                                   clubs  \\\n",
      "0                                                    NaN   \n",
      "1                                                    NaN   \n",
      "2                                                    NaN   \n",
      "3                                                    NaN   \n",
      "4                                                    NaN   \n",
      "...                                                  ...   \n",
      "13374                                                NaN   \n",
      "13375  63421|79626|38291|16869|1306|58973|72138|73922...   \n",
      "13376                                                NaN   \n",
      "13377  76804|79626|77091|72468|71860|78493|16869|7878...   \n",
      "13378                                                NaN   \n",
      "\n",
      "                                                    pics  \n",
      "0                                                    NaN  \n",
      "1                                                    NaN  \n",
      "2                                                    NaN  \n",
      "3                                                    NaN  \n",
      "4                                                    NaN  \n",
      "...                                                  ...  \n",
      "13374                                                NaN  \n",
      "13375  https://cdn.myanimelist.net/images/anime/2/753...  \n",
      "13376                                                NaN  \n",
      "13377  https://cdn.myanimelist.net/images/anime/8/812...  \n",
      "13378                                                NaN  \n",
      "\n",
      "[13379 rows x 38 columns]\n"
     ]
    }
   ],
   "source": [
    "le = LabelEncoder()\n",
    "data['type'] = le.fit_transform(data[\"type\"])\n",
    "data['source_type'] = le.fit_transform(data[\"source_type\"])\n",
    "data['studios'] = le.fit_transform(data[\"studios\"])\n",
    "data['genres'] = le.fit_transform(data[\"genres\"])\n",
    "data['score'] = le.fit_transform(data[\"score\"])\n",
    "\n",
    "print(data)"
   ]
  },
  {
   "cell_type": "code",
   "execution_count": null,
   "metadata": {},
   "outputs": [],
   "source": [
    "_train, X_test, y_train, y_test = train_test_split(features, target, test_size=0.2, random_state=42)"
   ]
  },
  {
   "cell_type": "markdown",
   "metadata": {},
   "source": [
    "# Model Training"
   ]
  },
  {
   "cell_type": "markdown",
   "metadata": {},
   "source": [
    "# Creating assesting model"
   ]
  },
  {
   "cell_type": "code",
   "execution_count": null,
   "metadata": {},
   "outputs": [
    {
     "data": {
      "text/html": [
       "<div>\n",
       "<style scoped>\n",
       "    .dataframe tbody tr th:only-of-type {\n",
       "        vertical-align: middle;\n",
       "    }\n",
       "\n",
       "    .dataframe tbody tr th {\n",
       "        vertical-align: top;\n",
       "    }\n",
       "\n",
       "    .dataframe thead th {\n",
       "        text-align: right;\n",
       "    }\n",
       "</style>\n",
       "<table border=\"1\" class=\"dataframe\">\n",
       "  <thead>\n",
       "    <tr style=\"text-align: right;\">\n",
       "      <th></th>\n",
       "      <th>animeA</th>\n",
       "      <th>animeB</th>\n",
       "      <th>recommendation</th>\n",
       "      <th>recommendation_url</th>\n",
       "      <th>num_recommenders</th>\n",
       "      <th>related</th>\n",
       "      <th>relation_type</th>\n",
       "    </tr>\n",
       "  </thead>\n",
       "  <tbody>\n",
       "    <tr>\n",
       "      <th>0</th>\n",
       "      <td>20955</td>\n",
       "      <td>16371</td>\n",
       "      <td>0</td>\n",
       "      <td>NaN</td>\n",
       "      <td>NaN</td>\n",
       "      <td>1</td>\n",
       "      <td>Other</td>\n",
       "    </tr>\n",
       "    <tr>\n",
       "      <th>1</th>\n",
       "      <td>40761</td>\n",
       "      <td>10087</td>\n",
       "      <td>0</td>\n",
       "      <td>NaN</td>\n",
       "      <td>NaN</td>\n",
       "      <td>1</td>\n",
       "      <td>Other</td>\n",
       "    </tr>\n",
       "    <tr>\n",
       "      <th>2</th>\n",
       "      <td>31675</td>\n",
       "      <td>20583</td>\n",
       "      <td>0</td>\n",
       "      <td>NaN</td>\n",
       "      <td>NaN</td>\n",
       "      <td>1</td>\n",
       "      <td>Other</td>\n",
       "    </tr>\n",
       "    <tr>\n",
       "      <th>3</th>\n",
       "      <td>33455</td>\n",
       "      <td>40716</td>\n",
       "      <td>0</td>\n",
       "      <td>NaN</td>\n",
       "      <td>NaN</td>\n",
       "      <td>1</td>\n",
       "      <td>Other</td>\n",
       "    </tr>\n",
       "    <tr>\n",
       "      <th>4</th>\n",
       "      <td>37980</td>\n",
       "      <td>35843</td>\n",
       "      <td>0</td>\n",
       "      <td>NaN</td>\n",
       "      <td>NaN</td>\n",
       "      <td>1</td>\n",
       "      <td>Other</td>\n",
       "    </tr>\n",
       "  </tbody>\n",
       "</table>\n",
       "</div>"
      ],
      "text/plain": [
       "   animeA  animeB  recommendation recommendation_url  num_recommenders  \\\n",
       "0   20955   16371               0                NaN               NaN   \n",
       "1   40761   10087               0                NaN               NaN   \n",
       "2   31675   20583               0                NaN               NaN   \n",
       "3   33455   40716               0                NaN               NaN   \n",
       "4   37980   35843               0                NaN               NaN   \n",
       "\n",
       "   related relation_type  \n",
       "0        1         Other  \n",
       "1        1         Other  \n",
       "2        1         Other  \n",
       "3        1         Other  \n",
       "4        1         Other  "
      ]
     },
     "execution_count": 80,
     "metadata": {},
     "output_type": "execute_result"
    }
   ],
   "source": [
    "modelTest = pd.read_csv('anime_anime.csv')\n",
    "\n",
    "modelTest.head()"
   ]
  }
 ],
 "metadata": {
  "kernelspec": {
   "display_name": "Python 3",
   "language": "python",
   "name": "python3"
  },
  "language_info": {
   "codemirror_mode": {
    "name": "ipython",
    "version": 3
   },
   "file_extension": ".py",
   "mimetype": "text/x-python",
   "name": "python",
   "nbconvert_exporter": "python",
   "pygments_lexer": "ipython3",
   "version": "3.11.4"
  }
 },
 "nbformat": 4,
 "nbformat_minor": 2
}
